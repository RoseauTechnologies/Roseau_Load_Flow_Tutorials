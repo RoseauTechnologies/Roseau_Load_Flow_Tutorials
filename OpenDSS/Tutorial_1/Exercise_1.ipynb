{
 "cells": [
  {
   "cell_type": "markdown",
   "metadata": {},
   "source": [
    "# Modelling and analyzing a simple unbalanced network with Roseau Load Flow solver\n",
    "\n",
    "### Introduction\n",
    "\n",
    "This tutorial is meant to introduce the procedure for modelling components of a given low voltage\n",
    "(LV) network using the _Roseau Load Flow_ solver. It will also cover the process of running a power\n",
    "flow, accessing results, and analysis such as voltage regulation and energy losses.\n",
    "\n",
    "Consider the simple LV network shown in the figure below containing a MV/LV, $\\Delta$-Y transformer\n",
    "(20kV/0.4kV, 250 kVA) between the source bus and bus A, a 240 mm², 3-phase line connecting buses A\n",
    "and B, and three 16 mm² single-phase lines connecting bus B with buses C, D and E each of which\n",
    "serves as a connection point for a house.\n",
    "\n",
    "<center> <img style=\"float: middle;\" \n",
    "          src=\"../images/LV_Network_With_Neutral.png\" \n",
    "          alt=\"Simple LV network\"\n",
    "          width=\"40%\"> \n",
    "</center>\n",
    "\n",
    "**<center> Figure 1. Simple LV Network</center>**\n"
   ]
  },
  {
   "cell_type": "markdown",
   "metadata": {},
   "source": [
    "### Import the required modules and functions\n",
    "\n",
    "First we need to import the modules and functions needed for this tutorial. The purpose of the\n",
    "following code are explained as follows:\n",
    "\n",
    "- `import roseau.load_flow as rlf `: imports the _Roseau Load Flow_ (RLF) package. This package is\n",
    "  needed to model the various components of the network such as buses, lines, transformers, etc.\n",
    "\n",
    "- `import numpy as np`: imports the _numpy_ package which will be used for mathematical manipulations\n",
    "  including working with arrays, calculating exponents, and handling constants like pi.\n"
   ]
  },
  {
   "cell_type": "code",
   "execution_count": null,
   "metadata": {},
   "outputs": [],
   "source": [
    "import numpy as np\n",
    "import roseau.load_flow as rlf"
   ]
  },
  {
   "cell_type": "markdown",
   "metadata": {},
   "source": [
    "### Creating the buses\n",
    "\n",
    "After importing all the necessary modules, we can move on to the modelling of the given LV network.\n",
    "We start with the buses which are the nodes of the network. To create a bus in RLF, we use the\n",
    "[`rlf.Bus`](https://roseau-load-flow.roseautechnologies.com/en/stable/models/Bus.html) class and pass\n",
    "the constructor an identifier and the number of phases that the bus has.\n",
    "\n",
    "The identifier is used internally by the solver to identify network elements and is also used to name\n",
    "the element when displaying results. Almost all elements in RLF require an id when instantiating.\n",
    "Also, a bus in RLF can either be a three-phase bus (with or without neutral i.e. `abcn` or `abc`)\n",
    "or any combination of one/two phases with or without the neutral. More information on buses and\n",
    "possible phase combinations in RLF can be found\n",
    "[here](https://roseau-load-flow.roseautechnologies.com/en/stable/models/Bus.html).\n",
    "\n",
    "For this tutorial, the network's buses are created as follows:\n",
    "\n",
    "- `source_bus = rlf.Bus(id='SourceBus', phases='abc', nominal_voltage=20e3)`: creates a 3-phase bus\n",
    "  with no neutral since it's typically not needed in a medium voltage network.\n",
    "- `bus_a = rlf.Bus(id=\"Bus A\", phases=\"abcn\", nominal_voltage=400)`: creates bus _A_ as a 3-phase bus\n",
    "  with a neutral (since it's a distribution network bus). Bus _B_ is created in a similar manner.\n",
    "- `bus_c = rlf.Bus(id=\"Bus C\", phases=\"an\", nominal_voltage=400)`: creates bus _C_ as a single phase\n",
    "  bus with a neutral. Buses _D_ and _E_ are created in a similar manner but with different phases.\n",
    "\n",
    "Note that the `nominal_voltage` parameter is optional but recommended as it allows us to get the\n",
    "per-unit voltage level automatically when we run the power flow.\n"
   ]
  },
  {
   "cell_type": "code",
   "execution_count": null,
   "metadata": {},
   "outputs": [],
   "source": [
    "source_bus = rlf.Bus(id=\"SourceBus\", phases=\"abc\", nominal_voltage=20e3)\n",
    "bus_a = rlf.Bus(id=\"Bus A\", phases=\"abcn\", nominal_voltage=400)\n",
    "bus_b = rlf.Bus(id=\"Bus B\", phases=\"abcn\", nominal_voltage=400)\n",
    "bus_c = rlf.Bus(id=\"Bus C\", phases=\"an\", nominal_voltage=400)\n",
    "bus_d = rlf.Bus(id=\"Bus D\", phases=\"bn\", nominal_voltage=400)\n",
    "bus_e = rlf.Bus(id=\"Bus E\", phases=\"cn\", nominal_voltage=400)"
   ]
  },
  {
   "cell_type": "markdown",
   "metadata": {},
   "source": [
    "### Adding a voltage source to the source bus\n",
    "\n",
    "Because the source bus is responsible for powering the network, we need to add a voltage source at\n",
    "the bus to reflect this. To add a voltage source to a bus in RLF, we first need to set its voltage\n",
    "value.\n",
    "\n",
    "A voltage source can either be $\\Delta$ or Y-connected as described\n",
    "[here](https://roseau-load-flow.roseautechnologies.com/en/stable/models/VoltageSource.html#connections).\n",
    "Since the source bus has no neutral, therefore, we can only add a $\\Delta$-connected voltage source\n",
    "to it. The complete procedure is as follows:\n",
    "\n",
    "Create a voltage source using the\n",
    "[`rlf.VoltageSource`](https://roseau-load-flow.roseautechnologies.com/en/stable/models/VoltageSource.html)\n",
    "class and specify an id, the bus it is connected to and its voltages:\n",
    "`vs = VoltageSource(id=\"Source\", bus=source_bus, voltages=20e3)`.\n",
    "\n",
    "`voltages=20e3` creates a complex array of three-phase voltages with a magnitude of 20 kV and a phase\n",
    "shift of -120° and 120° between them. Has the bus had a neutral, its voltages would have been defined\n",
    "as `voltages=20e3 / np.sqrt(3)` to keep the line-to-line voltage at 20 kV.\n",
    "\n",
    "Note that it is also possible to create an unbalanced voltage source by specifying the complex\n",
    "voltages of each phase as an array. For example `voltages=[20e3 + 0j, 20e3 + 0j, 20e3 + 0j]` creates\n",
    "a zero-sequence voltage source.\n"
   ]
  },
  {
   "cell_type": "code",
   "execution_count": null,
   "metadata": {},
   "outputs": [],
   "source": [
    "vs = rlf.VoltageSource(id=\"Source\", bus=source_bus, voltages=20e3)"
   ]
  },
  {
   "cell_type": "markdown",
   "metadata": {},
   "source": [
    "### Adding the transformer\n",
    "\n",
    "Next, we will add the MV/LV transformer. To add a transformer in RLF, first we need to define the\n",
    "transformer's parameters using the\n",
    "[`rlf.TransformerParameters`](https://roseau-load-flow.roseautechnologies.com/en/stable/models/Transformer/index.html)\n",
    "class. This can be done manually, using predefined transformers in the catalogue, or using helper\n",
    "conversion functions from other software. More information is available\n",
    "[here](https://roseau-load-flow.roseautechnologies.com/en/stable/models/Transformer/index.html).\n",
    "\n",
    "For the purpose of this tutorial, we will be using predefined transformer parameters from the\n",
    "catalogue of transformers included in RLF. To do this, we use the `from_catalogue` method of the\n",
    "`rlf.TransformerParameters` class. In this case, we use the parameters of a 250 kVA Schneider Electric\n",
    "Minera transformer with the highest efficiency (AA0Ak). More information on using the transformers\n",
    "catalogue is available\n",
    "[here](https://roseau-load-flow.roseautechnologies.com/en/stable/usage/Catalogues.html#transformers).\n"
   ]
  },
  {
   "cell_type": "code",
   "execution_count": null,
   "metadata": {},
   "outputs": [],
   "source": [
    "tp = rlf.TransformerParameters.from_catalogue(\"SE Minera AA0Ak 250kVA 20kV 410V Dyn11\")"
   ]
  },
  {
   "cell_type": "markdown",
   "metadata": {},
   "source": [
    "Once the transformer's parameters have been defined, a transformer can then be created using the\n",
    "[`rlf.Transformer`](https://roseau-load-flow.roseautechnologies.com/en/stable/models/Transformer/index.html)\n",
    "class. We pass in the id of the transformer as well as the buses and phases on its primary side (1)\n",
    "and secondary side (2). Finally, we pass in the transformer's parameters created above.\n"
   ]
  },
  {
   "cell_type": "code",
   "execution_count": null,
   "metadata": {},
   "outputs": [],
   "source": [
    "transformer = rlf.Transformer(id=\"Transformer\", bus1=source_bus, bus2=bus_a, parameters=tp)"
   ]
  },
  {
   "cell_type": "markdown",
   "metadata": {},
   "source": [
    "### Adding potential references and grounds\n",
    "\n",
    "To run power flow calculations in _RLF_, a potential reference must be added to an element in each\n",
    "galvanically isolated section of the network. For this tutorial, the isolated sections are the\n",
    "primary and secondary sides of the transformer.\n",
    "\n",
    "For the primary side of the transformer, we use a\n",
    "[`rlf.PotentialRef`](https://roseau-load-flow.roseautechnologies.com/en/stable/models/PotentialRef.html)\n",
    "connected to the `source_bus`. We pass in its id, the target `element` (which can be a `Bus` or a\n",
    "`Ground`) whose potential will be set to 0 V and an optional `phase` argument which is set to `None`\n",
    "by default. In this case, as the target bus `source_bus` has three potentials (`a`, `b` and `c`) and\n",
    "as the `phases` argument is not defined, the sum of these potentials is set to 0 V by `pref_mv`.\n"
   ]
  },
  {
   "cell_type": "code",
   "execution_count": null,
   "metadata": {},
   "outputs": [],
   "source": [
    "pref_mv = rlf.PotentialRef(id=\"PRef MV\", element=source_bus)"
   ]
  },
  {
   "cell_type": "markdown",
   "metadata": {},
   "source": [
    "For the LV part of the network, we will be using lines with shunt connections. These lines require a\n",
    "[`rlf.Ground`](https://roseau-load-flow.roseautechnologies.com/en/stable/models/Ground.html) element.\n",
    "The constructor of this element only takes an id.\n"
   ]
  },
  {
   "cell_type": "code",
   "execution_count": null,
   "metadata": {},
   "outputs": [],
   "source": [
    "ground = rlf.Ground(id=\"Ground\")"
   ]
  },
  {
   "cell_type": "markdown",
   "metadata": {},
   "source": [
    "Now, we can connect this ground to the neutral of the secondary side of the transformer using its\n",
    "`connect` method.\n"
   ]
  },
  {
   "cell_type": "code",
   "execution_count": null,
   "metadata": {},
   "outputs": [],
   "source": [
    "ground.connect(bus=bus_a, phase=\"n\")"
   ]
  },
  {
   "cell_type": "markdown",
   "metadata": {},
   "source": [
    "For now, the potential of the element `ground` has not been set to 0 V. In RLF, the ability to define\n",
    "`Ground` elements has been separated from the ability to set potentials to zero. This is a unique\n",
    "feature of _RLF_ and will become more familiar with subsequent tutorials.\n",
    "\n",
    "We then set the potential of the element `ground` to 0 V as the reference for LV potentials using\n",
    "another `rlf.PotentialRef`.\n"
   ]
  },
  {
   "cell_type": "code",
   "execution_count": null,
   "metadata": {},
   "outputs": [],
   "source": [
    "pref_lv = rlf.PotentialRef(id=\"PRef LV\", element=ground)"
   ]
  },
  {
   "cell_type": "markdown",
   "metadata": {},
   "source": [
    "Here, the element provided to the constructor is a `Ground` element. As a `Ground` has a single\n",
    "potential, the `phase` argument of the constructor must be ignored.\n"
   ]
  },
  {
   "cell_type": "markdown",
   "metadata": {},
   "source": [
    "### Adding Lines\n",
    "\n",
    "Next, we'll add in all the lines present in the network. Similar to the transformer, to add lines in\n",
    "RLF, we first need to specify the parameters for the line and this can be done manually using the\n",
    "[`rlf.LineParameters`](https://roseau-load-flow.roseautechnologies.com/en/stable/models/Line/Parameters.html)\n",
    "or with the catalogue. For manual entry, we will need to specify the series impedance matrix `z_line`\n",
    "and optionally, the shunt admittance matrix `y_shunt`. The dimensions of these matrices must be equal\n",
    "to the number of conductors (phases) of the line.\n",
    "\n",
    "For simplicity, we will use the RLF catalogue to get predefined parameters for lines. To do this we\n",
    "pass in the name of the desired line parameter as well as the number of phases required which can\n",
    "range from 1 to 4. For the three-phase line (with neutral) between buses _A_ and _B_, we will use\n",
    "parameters from an overhead aluminium cable with a cross-sectional area of 240 mm². The single-phase\n",
    "lines will be modelled using parameters from an underground aluminium cable with a cross-sectional\n",
    "area of 19 mm² as shown below. Using line parameters make it easy to create multiple lines with the\n",
    "same characteristics.\n",
    "\n",
    "- `lp_240 = rlf.LineParameters.from_catalogue(\"O_AL_240\", nb_phases=4)`\n",
    "- `lp_19 = rlf.LineParameters.from_catalogue(\"U_AL_19\", nb_phases=2)`\n",
    "\n",
    "Next, we create the actual lines using the\n",
    "[`rlf.Line`](https://roseau-load-flow.roseautechnologies.com/en/stable/models/Line/index.html) class.\n",
    "To do this, we pass the constructor the line's id, the buses it's connected to (bus 1 and bus 2), the\n",
    "length of the line, and the line's parameters. In RLF, when the `y_shunt` matrix is defined in the\n",
    "line parameters, the line requires a ground for shunt connections. Here, we reuse the same ground\n",
    "element for the LV part of the network.\n",
    "\n",
    "- `line_ab = rlf.Line(id=\"Line A-B\", bus1=bus_a, bus2=bus_b, parameters=lp_240, phases=\"abcn\", length=rlf.Q_(1.0, \"km\"), ground=ground)`\n",
    "\n",
    "**Note**: To demonstrate the flexibility of RLF, the length of the line may be specified in any unit\n",
    "unit of distance such as kilometer, miles, meters, etc using the `rlf.Q_` (Quantity) class. This class\n",
    "takes in the numerical value of the length and its unit.\n",
    "\n",
    "However, it should also be noted that most arguments in RLF functions, methods or classes can also be\n",
    "given without using the `rlf.Q_` constructor. In this case the default unit used by that function,\n",
    "class or method will be assumed.\n"
   ]
  },
  {
   "cell_type": "code",
   "execution_count": null,
   "metadata": {},
   "outputs": [],
   "source": [
    "# Getting line parameters from the catalogue\n",
    "lp_240 = rlf.LineParameters.from_catalogue(\"O_AL_240\", nb_phases=4)\n",
    "lp_19 = rlf.LineParameters.from_catalogue(\"U_AL_19\", nb_phases=2)\n",
    "\n",
    "# Creating the actual lines\n",
    "line_ab = rlf.Line(\n",
    "    id=\"Line A-B\", bus1=bus_a, bus2=bus_b, parameters=lp_240, phases=\"abcn\", length=rlf.Q_(1.0, \"km\"), ground=ground\n",
    ")\n",
    "line_bc = rlf.Line(\n",
    "    id=\"Line B-C\", bus1=bus_b, bus2=bus_c, phases=\"an\", parameters=lp_19, length=rlf.Q_(10, \"m\"), ground=ground\n",
    ")\n",
    "line_bd = rlf.Line(\n",
    "    id=\"Line B-D\", bus1=bus_b, bus2=bus_d, phases=\"bn\", parameters=lp_19, length=rlf.Q_(10, \"m\"), ground=ground\n",
    ")\n",
    "line_be = rlf.Line(\n",
    "    id=\"Line B-E\", bus1=bus_b, bus2=bus_e, phases=\"cn\", parameters=lp_19, length=rlf.Q_(10, \"m\"), ground=ground\n",
    ")"
   ]
  },
  {
   "cell_type": "markdown",
   "metadata": {},
   "source": [
    "### Adding loads\n",
    "\n",
    "In the final modelling step, we will add the loads at buses C, D and E. The description of the loads\n",
    "are given in the table below. RLF can model different types of loads as described\n",
    "[here](https://roseau-load-flow.roseautechnologies.com/en/stable/models/Load/index.html).\n",
    "\n",
    "| Load Name | Phases | Connected bus | Peak Demand (kW) | PF   |\n",
    "| :-------- | :----- | :------------ | :--------------- | :--- |\n",
    "| Load 1    | an     | C             | 7                | 0.95 |\n",
    "| Load 2    | bn     | D             | 6                | 0.95 |\n",
    "| Load 3    | cn     | E             | 8                | 0.95 |\n",
    "\n",
    "For this tutorial, the loads are assumed to be drawing constant power irrespective of the voltage.\n",
    "This means we can model them using a\n",
    "[`rlf.PowerLoad`](https://roseau-load-flow.roseautechnologies.com/en/stable/models/Load/PowerLoad.html)\n",
    "class. This class takes in the id of the load, the bus it is connected to, the phases of that bus it\n",
    "is attached to, and the complex apparent power of the load. The power must be given as an array of\n",
    "one or three values for single and three-phase loads respectively.\n",
    "\n",
    "Since we are given active power and power factor instead of the complex apparent power, we need to\n",
    "carry out a conversion. For this, w write a small helper function, `convert_power` that takes in the\n",
    "peak active power demand and the power factor and spits out the complex power as follows:\n",
    "\n",
    "$\\underline{S} = P \\left[1 + j\\tan\\left(\\cos^{-1}(pf)\\right)\\right]$\n"
   ]
  },
  {
   "cell_type": "code",
   "execution_count": null,
   "metadata": {},
   "outputs": [],
   "source": [
    "def convert_power(power: float, pf: float) -> complex:\n",
    "    \"\"\"Convert active power and power factor to complex power.\"\"\"\n",
    "    return power * (1 + np.tan(np.arccos(pf)) * 1j)"
   ]
  },
  {
   "cell_type": "markdown",
   "metadata": {},
   "source": [
    "Then, we can finally create the load as follows:\n"
   ]
  },
  {
   "cell_type": "code",
   "execution_count": null,
   "metadata": {},
   "outputs": [],
   "source": [
    "load1 = rlf.PowerLoad(id=\"Load 1\", bus=bus_c, phases=\"an\", powers=[convert_power(7e3, 0.95)])\n",
    "load2 = rlf.PowerLoad(id=\"Load 2\", bus=bus_d, phases=\"bn\", powers=[convert_power(6e3, 0.95)])\n",
    "load3 = rlf.PowerLoad(id=\"Load 3\", bus=bus_e, phases=\"cn\", powers=[convert_power(8e3, 0.95)])"
   ]
  },
  {
   "cell_type": "markdown",
   "metadata": {},
   "source": [
    "Note that these three loads are connected between a phase and the neutral of their buses that has the\n",
    "exact same phases as the loads. When the phases of the bus and the load are the same, specifying the\n",
    "phases of the load is redundant and can be skipped.\n"
   ]
  },
  {
   "cell_type": "markdown",
   "metadata": {},
   "source": [
    "### Building the network\n",
    "\n",
    "Following the modelling of all network elements, the next step is to build the actual network.\n",
    "Currently, elements exist in isolation and they do not belong to any network. This can be verified\n",
    "by accessing the `network` attribute of an element.\n"
   ]
  },
  {
   "cell_type": "code",
   "execution_count": null,
   "metadata": {},
   "outputs": [],
   "source": [
    "load1.network is None"
   ]
  },
  {
   "cell_type": "markdown",
   "metadata": {},
   "source": [
    "To build the network in _RLF_, we use the `rlf.ElectricalNetwork` class. We can either pass all the\n",
    "elements to the class constructor manually of use the `from_element` method to build the entire\n",
    "network from one of the buses instead. Here, we pass in the source bus to `from_element` then print\n",
    "the network to see what it contains.\n"
   ]
  },
  {
   "cell_type": "code",
   "execution_count": null,
   "metadata": {},
   "outputs": [],
   "source": [
    "en = rlf.ElectricalNetwork.from_element(source_bus)\n",
    "en"
   ]
  },
  {
   "cell_type": "markdown",
   "metadata": {},
   "source": [
    "We can see that the network contains all the six buses, the four lines, the transformer, the three\n",
    "loads, the voltage source, the ground and the two potential references. The network is now ready to\n",
    "be used for power flow calculations.\n"
   ]
  },
  {
   "cell_type": "markdown",
   "metadata": {},
   "source": [
    "### Running a load flow\n",
    "\n",
    "To execute load flow calculations in _RLF_, a license is required. A free license limited to networks\n",
    "with at most 10 buses key is available\n",
    "[`here`](https://roseau-load-flow.roseautechnologies.com/en/stable/License.html#license-types) and\n",
    "can be used for the purpose of this tutorial.\n",
    "\n",
    "Visit the link above to see how to activate the license. Note also that students and researchers can\n",
    "request a free academic license that is not limited in the number of buses. More information on this\n",
    "can be found in the link above.\n",
    "\n",
    "Once the license is properly activated, we can simply run a load flow as shown below:\n"
   ]
  },
  {
   "cell_type": "code",
   "execution_count": null,
   "metadata": {},
   "outputs": [],
   "source": [
    "en.solve_load_flow()"
   ]
  },
  {
   "cell_type": "markdown",
   "metadata": {},
   "source": [
    "This function returns the number of iterations performed by the solver and the residual error after convergence.\n"
   ]
  },
  {
   "cell_type": "markdown",
   "metadata": {},
   "source": [
    "### Accessing results\n",
    "\n",
    "After running the load flow calculations, we can extract the value of several quantities from\n",
    "different network elements. Each quantity can be accessed through the name of the quantity prefixed\n",
    "with `res_`. A complete breakdown of available results for each element is given in the table below:\n",
    "\n",
    "| Element type                                | Available results                                                                                                                                                      |\n",
    "| ------------------------------------------- | ---------------------------------------------------------------------------------------------------------------------------------------------------------------------- |\n",
    "| `Bus`                                       | `res_potentials`, `res_voltages`, `res_voltage_levels`, `res_violated`                                                                                                 |\n",
    "| `Line`                                      | `res_currents`, `res_powers`, `res_potentials`, `res_voltages`, `res_series_power_losses`, `res_shunt_power_losses`, `res_power_losses`, `res_loading`, `res_violated` |\n",
    "| `Transformer`                               | `res_currents`, `res_powers`, `res_potentials`, `res_voltages`, `res_power_losses`, `res_loading`, `res_violated`                                                      |\n",
    "| `Switch`                                    | `res_currents`, `res_powers`, `res_potentials`, `res_voltages`                                                                                                         |\n",
    "| `ImpedanceLoad`, `CurrentLoad`, `PowerLoad` | `res_currents`, `res_powers`, `res_potentials`, `res_voltages`, `res_flexible_powers`&#8270;                                                                           |\n",
    "| `VoltageSource`                             | `res_currents`, `res_powers`, `res_potentials`, `res_voltages`                                                                                                         |\n",
    "| `Ground`                                    | `res_potential`                                                                                                                                                        |\n",
    "| `PotentialRef`                              | `res_current` _(Always zero for a successful load flow)_                                                                                                               |\n",
    "\n",
    "&#8270;: `res_flexible_powers` is only available for flexible loads (`PowerLoad`s with `flexible_params`).\n",
    "\n",
    "To access results for different elements in _RLF_, there are two main methods. The first method\n",
    "involves calling the `res_` method for the desired quantity for that element e.g.\n"
   ]
  },
  {
   "cell_type": "code",
   "execution_count": null,
   "metadata": {},
   "outputs": [],
   "source": [
    "load1.res_voltages"
   ]
  },
  {
   "cell_type": "markdown",
   "metadata": {},
   "source": [
    "Note that the return type is a Quantity (`rlf.Q_`) class. To get the numerical value of the quantity,\n",
    "we can use its `.m` property (`m` stands for magnitude).\n"
   ]
  },
  {
   "cell_type": "code",
   "execution_count": null,
   "metadata": {},
   "outputs": [],
   "source": [
    "load1.res_voltages.m"
   ]
  },
  {
   "cell_type": "markdown",
   "metadata": {},
   "source": [
    "However, this method of accessing results can only be used for one element at a time. To extract\n",
    "results for all elements of the same type, we can call the `res_` method of the electrical network\n",
    "instead. For example, to get the results for all the loads in the network, we can use `en.res_loads`\n",
    "as shown below.\n"
   ]
  },
  {
   "cell_type": "code",
   "execution_count": null,
   "metadata": {},
   "outputs": [],
   "source": [
    "en.res_loads"
   ]
  },
  {
   "cell_type": "markdown",
   "metadata": {},
   "source": [
    "We get a `DataFrame` (from the _Pandas_ library) of results. In a data frame, the units are not\n",
    "included thus the values are always displayed in SI units of V, A and W.\n"
   ]
  },
  {
   "cell_type": "markdown",
   "metadata": {},
   "source": [
    "##### Accessing active and reactive power of loads\n",
    "\n",
    "Although, these were explicitly specified, we can still verify the results. We will apply both\n",
    "methods described above to retrieve the active (P) and reactive (Q) powers of the three loads present\n",
    "in the network. Note the `res_power` method in RLF returns the powers flowing in the live and neutral\n",
    "conductors. Therefore, the total power dissipated by the load can be determined by taking a sum of\n",
    "these values as shown below.\n"
   ]
  },
  {
   "cell_type": "code",
   "execution_count": null,
   "metadata": {},
   "outputs": [],
   "source": [
    "# Method 1\n",
    "load_power = load1.res_powers.m_as(\"kVA\").sum()\n",
    "print(f\"Active power of Load 1: {round(load_power.real, 3)} kW\")\n",
    "print(f\"Reactive power of Load 1: {round(load_power.imag, 3)} kVAr\")"
   ]
  },
  {
   "cell_type": "markdown",
   "metadata": {},
   "source": [
    "Here, the result is converted to kVA using the `m_as` method of the quantities (`Q_`) class. This\n",
    "method returns the magnitude of the quantity in the desired unit.\n"
   ]
  },
  {
   "cell_type": "code",
   "execution_count": null,
   "metadata": {},
   "outputs": [],
   "source": [
    "# Method 2\n",
    "# We extract the power column from the DataFrame of results\n",
    "load_powers = en.res_loads[\"power\"].sort_index() / 1e3\n",
    "\n",
    "# We extract the total active and reactive power of each load\n",
    "for load_id in load_powers.index.levels[0]:\n",
    "    s = load_powers.loc[load_id].sum()\n",
    "    print(f\"{load_id}: P = {s.real:.3f} kW, Q = {s.imag:.3f} kVAr\")"
   ]
  },
  {
   "cell_type": "markdown",
   "metadata": {},
   "source": [
    "##### Voltages of the loads and the three-phase buses\n",
    "\n",
    "Similar to the loads, we can extract the voltage of a certain bus using its `res_voltages` property.\n",
    "This returns the voltage in complex form which can be converted into polar form to extract the\n",
    "magnitude and phase angle.\n",
    "\n",
    "To extract the results for multiple or all buses simultaneously, we can use the `res_buses_voltages`\n",
    "property of the electrical network. This returns a dataframe which can be filtered to get the results\n",
    "of the desired buses. By default, the results are also in rectangular format. To convert to polar\n",
    "form, we use the `transform` method of dataframes.\n",
    "\n",
    "Both methods are shown below.\n"
   ]
  },
  {
   "cell_type": "code",
   "execution_count": null,
   "metadata": {},
   "outputs": [],
   "source": [
    "# Method 1\n",
    "# Voltage result at bus C\n",
    "vc = bus_c.res_voltages.m[0]\n",
    "# Get the magnitude and angle of the voltage at bus C\n",
    "print(f\"|Vc| = {np.abs(vc):.3f} V, angle(Vc) = {np.angle(vc, deg=True):.3f}°\")"
   ]
  },
  {
   "cell_type": "code",
   "execution_count": null,
   "metadata": {},
   "outputs": [],
   "source": [
    "# Method 2\n",
    "# Voltage result for all buses\n",
    "v_buses = en.res_buses_voltages[\"voltage\"]\n",
    "# Transform the complex voltage to magnitude and angle\n",
    "v_buses.transform({\"magnitude\": abs, \"angle °\": lambda v: np.angle(v, deg=True)})"
   ]
  },
  {
   "cell_type": "markdown",
   "metadata": {},
   "source": [
    "Additionally, since we defined the optional `nominal_voltage` parameter for the buses. We can extract\n",
    "the voltage levels of the buses using the `res_voltage_levels` property. This is the per-unit voltage\n",
    "of the buses with respect to their nominal voltage.\n"
   ]
  },
  {
   "cell_type": "code",
   "execution_count": null,
   "metadata": {},
   "outputs": [],
   "source": [
    "# Method 1\n",
    "# Voltage level at bus C in per unit\n",
    "bus_c.res_voltage_levels.m"
   ]
  },
  {
   "cell_type": "code",
   "execution_count": null,
   "metadata": {},
   "outputs": [],
   "source": [
    "# Method 2\n",
    "# Voltage level at all buses\n",
    "en.res_buses_voltages  # [\"voltage_level\"]"
   ]
  },
  {
   "cell_type": "markdown",
   "metadata": {},
   "source": [
    "#### Active and Reactive powers of the transformer\n",
    "\n",
    "Similarly, to extract the active and reactive powers for the transformer, we can use the two methods\n",
    "of accessing results as shown below. It can be observed that the powers in the secondary side of the\n",
    "transformer are negative. This indicates that the power is leaving the transformer as opposed to the\n",
    "positive powers on the primary side entering the transformer. Also, there is no power flowing\n",
    "thorough the neutral phase as expected.\n"
   ]
  },
  {
   "cell_type": "code",
   "execution_count": null,
   "metadata": {},
   "outputs": [],
   "source": [
    "# Method 1\n",
    "# Primary and secondary complex powers of a single transformer (in kVA and rounded)\n",
    "s_primary, s_secondary = transformer.res_powers\n",
    "np.round(s_primary.m_as(\"kVA\"), 3), np.round(s_secondary.m_as(\"kVA\"), 3)"
   ]
  },
  {
   "cell_type": "code",
   "execution_count": null,
   "metadata": {},
   "outputs": [],
   "source": [
    "# Method 2\n",
    "# Primary and secondary complex powers of all transformers (in kVA and rounded)\n",
    "(en.res_transformers[[\"power1\", \"power2\"]] / 1e3).round(3)"
   ]
  },
  {
   "cell_type": "markdown",
   "metadata": {},
   "source": [
    "In addition, we can also retrieve the power lost in the transformer using the `res_power_losses`\n",
    "property of the `rlf.Transformer` object as shown below.\n"
   ]
  },
  {
   "cell_type": "code",
   "execution_count": null,
   "metadata": {},
   "outputs": [],
   "source": [
    "transformer.res_power_losses.m"
   ]
  },
  {
   "cell_type": "markdown",
   "metadata": {},
   "source": [
    "#### Line Losses\n",
    "\n",
    "Finally, the line losses on the network can also be conveniently accessed using the described methods.\n",
    "The first method uses the `res_series_power_losses` of each line and returns the line losses for each\n",
    "phase. The second method uses the `res_lines` property of the electrical network and the column\n",
    "`series_losses` in the resulting dataframe contains the power losses on each phase. Conventionally,\n",
    "when talking about line losses, we are typically interested in the active power losses in the lines\n",
    "which can be obtained as shown below.\n"
   ]
  },
  {
   "cell_type": "code",
   "execution_count": null,
   "metadata": {},
   "outputs": [],
   "source": [
    "# Method 1\n",
    "# Series Watt losses of a single line (unit: W)\n",
    "np.real(line_ab.res_series_power_losses.m)"
   ]
  },
  {
   "cell_type": "code",
   "execution_count": null,
   "metadata": {},
   "outputs": [],
   "source": [
    "# Method 2\n",
    "# Series Watt losses of all lines (unit: W)\n",
    "en.res_lines[\"series_losses\"].transform({\"active_power_losses\": np.real})"
   ]
  }
 ],
 "metadata": {
  "kernelspec": {
   "display_name": ".venv",
   "language": "python",
   "name": "python3"
  },
  "language_info": {
   "codemirror_mode": {
    "name": "ipython",
    "version": 3
   },
   "file_extension": ".py",
   "mimetype": "text/x-python",
   "name": "python",
   "nbconvert_exporter": "python",
   "pygments_lexer": "ipython3",
   "version": "3.13.0"
  }
 },
 "nbformat": 4,
 "nbformat_minor": 2
}
