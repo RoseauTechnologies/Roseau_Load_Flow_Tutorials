{
 "cells": [
  {
   "cell_type": "markdown",
   "metadata": {},
   "source": [
    "# Modelling, Analysis and Benchmarking of a Simple Unbalanced LV Network (with Neutral)\n",
    "\n",
    "## Introduction\n"
   ]
  },
  {
   "cell_type": "markdown",
   "metadata": {
    "pycharm": {
     "name": "#%% md\n"
    }
   },
   "source": [
    "<center> <img style=\"float: middle;\" src=\"../Figures/Figure_1.png\" width=\"40%\"> </center>\n"
   ]
  },
  {
   "cell_type": "code",
   "execution_count": null,
   "metadata": {
    "pycharm": {
     "is_executing": true,
     "name": "#%%\n"
    }
   },
   "outputs": [],
   "source": [
    "import dss\n",
    "import numpy as np\n",
    "import roseau.load_flow as rlf"
   ]
  },
  {
   "cell_type": "markdown",
   "metadata": {},
   "source": [
    "## Open DSS\n"
   ]
  },
  {
   "cell_type": "code",
   "execution_count": null,
   "metadata": {
    "pycharm": {
     "name": "#%%\n"
    }
   },
   "outputs": [],
   "source": [
    "# Set up dss_engine\n",
    "dss_engine = dss.DSS\n",
    "DSSText = dss_engine.Text\n",
    "DSSCircuit = dss_engine.ActiveCircuit\n",
    "DSSSolution = dss_engine.ActiveCircuit.Solution\n",
    "ControlQueue = dss_engine.ActiveCircuit.CtrlQueue\n",
    "dss_engine.AllowForms = 0\n",
    "\n",
    "# Network Modelling - Creating a Circuit\n",
    "DSSText.Command = \"Clear\"\n",
    "DSSText.Command = \"Set DefaultBaseFrequency=50\"\n",
    "DSSText.Command = \"New Circuit.Simple_LV_Network\"\n",
    "DSSText.Command = \"Edit vsource.source bus1=sourceBus basekv=11 pu=1.0 phases=3\"\n",
    "\n",
    "# Adding the 11kV/0.4kV Transformer\n",
    "DSSText.Command = \"New transformer.LVTR Buses=[sourceBus, A.1.2.3.4] Conns=[delta wye] KVs=[11, 0.4] KVAs=[250 250] %Rs=0.00 xhl=2.5 %loadloss=0 \"\n",
    "# DSSText.Command = \"dump transformer.LVTR debug\"\n",
    "\n",
    "# Creating the linecodes\n",
    "DSSText.Command = \"new linecode.240sq nphases=4 R1=0.127 X1=0.072 R0=0.342 X0=0.089 units=km\"\n",
    "DSSText.Command = \"new linecode.16sq nphases=2 R1=1.15 X1=0.083 R0=1.2 X0=0.083 units=km\"\n",
    "\n",
    "# Creating the 400V and 230V lines\n",
    "DSSText.Command = \"new line.A_B bus1=A.1.2.3.4 bus2=B.1.2.3.4 length=1 phases=4 units=km linecode=240sq\"\n",
    "DSSText.Command = \"new line.B_L1 bus1=B.1.4 bus2=C.1.2 length=0.01 phases=2 units=km linecode=16sq\"\n",
    "DSSText.Command = \"new line.B_L2 bus1=B.2.4 bus2=D.1.2 length=0.01 phases=2 units=km linecode=16sq\"\n",
    "DSSText.Command = \"new line.B_L3 bus1=B.3.4 bus2=E.1.2 length=0.01 phases=2 units=km linecode=16sq\"\n",
    "# DSSText.Command = \"dump linecode.240sq debug\"\n",
    "# DSSText.Command = \"dump line.A_B debug\"\n",
    "\n",
    "# Connecting loads to a bus\n",
    "# Note: I (Ali) couldn't make it work with phases=2 for loads. It will need more digging\n",
    "# into the OpenDSS model to understand the discrepancy between our phase-neutral load\n",
    "# definition and theirs. For the time being, keeping phases=1 works fine as long as\n",
    "# the correct bus phases are used in the load definition\n",
    "DSSText.Command = \"new load.Load_1 bus1=C.1.2 phases=1 kV=(0.4 3 sqrt /) kW=7 pf=0.95 model=1 conn=wye Vminpu=0.85 Vmaxpu=1.20 status=fixed\"\n",
    "DSSText.Command = \"new load.Load_2 bus1=D.1.2 phases=1 kV=(0.4 3 sqrt /) kW=6 pf=0.95 model=1 conn=wye Vminpu=0.85 Vmaxpu=1.20 status=fixed\"\n",
    "DSSText.Command = \"new load.Load_3 bus1=E.1.2 phases=1 kV=(0.4 3 sqrt /) kW=8 pf=0.95 model=1 conn=wye Vminpu=0.85 Vmaxpu=1.20 status=fixed\"\n",
    "\n",
    "# Set the Control mode and the Voltage bases\n",
    "DSSText.Command = \"set controlmode=static\"\n",
    "DSSText.Command = \"set mode=snapshot\"\n",
    "DSSText.Command = \"Set VoltageBases=[11 0.4]\"\n",
    "DSSText.Command = \"calcvoltagebases\""
   ]
  },
  {
   "cell_type": "code",
   "execution_count": null,
   "metadata": {},
   "outputs": [],
   "source": [
    "# Run the power flow simulation\n",
    "DSSSolution.Solve()\n",
    "if DSSSolution.Converged:\n",
    "    print(\"The Circuit was Successfully Solved\")\n",
    "else:\n",
    "    raise RuntimeError(\"DID NOT CONVERGE\")"
   ]
  },
  {
   "cell_type": "code",
   "execution_count": null,
   "metadata": {
    "pycharm": {
     "name": "#%%\n"
    }
   },
   "outputs": [],
   "source": [
    "# Extract the results\n",
    "for active_load in (\"Load_1\", \"Load_2\", \"Load_3\"):\n",
    "    DSSCircuit.SetActiveElement(f\"Load.{active_load}\")\n",
    "    print(f\"{active_load}:  \")\n",
    "    pp, pn = DSSCircuit.ActiveElement.Powers[0::2]\n",
    "    qp, qn = DSSCircuit.ActiveElement.Powers[1::2]\n",
    "    print(f\"Active power demand (P)= {round(pp+pn, 3)} kW\")\n",
    "    print(f\"Reactive power demand (Q)= {round(qp+qn, 3)} kvar\")\n",
    "print()\n",
    "\n",
    "for active_load in (\"Load_1\", \"Load_2\", \"Load_3\"):\n",
    "    DSSCircuit.SetActiveElement(f\"Load.{active_load}\")\n",
    "    bus_name = DSSCircuit.ActiveElement.Properties(\"bus1\").Val\n",
    "    DSSCircuit.SetActiveBus(bus_name)\n",
    "    voltages = DSSCircuit.ActiveBus.puVoltages[0::2] + 1j * DSSCircuit.ActiveBus.puVoltages[1::2]\n",
    "    (v1,) = np.abs(voltages[:-1] - voltages[-1])\n",
    "    print(f\"The voltage [in p.u.] of the bus connected to {active_load} = {round(v1, 3)} pu\")\n",
    "print()\n",
    "\n",
    "active_bus = \"A\"\n",
    "DSSCircuit.SetActiveBus(active_bus)\n",
    "print(f\"Voltage magnitudes at bus {active_bus}:  \")\n",
    "voltages = DSSCircuit.ActiveBus.puVoltages[0::2] + 1j * DSSCircuit.ActiveBus.puVoltages[1::2]\n",
    "v1, v2, v3 = np.abs(voltages[:-1] - voltages[-1])\n",
    "print(f\"Voltage magnitude - phase 1 = {round(v1, 3)} pu\")\n",
    "print(f\"Voltage magnitude - phase 2 = {round(v2, 3)} pu\")\n",
    "print(f\"Voltage magnitude - phase 3 = {round(v3, 3)} pu\")\n",
    "print()\n",
    "\n",
    "DSSCircuit.SetActiveElement(\"transformer.LVTR\")\n",
    "print(\"Results of the transformer LVTR: \")\n",
    "# Indices [0,4[ are primary powers, indices [4, 8[ are secondary powers\n",
    "transformer_p = DSSCircuit.ActiveElement.Powers[0::2]\n",
    "transformer_q = DSSCircuit.ActiveElement.Powers[1::2]\n",
    "print(f\"Active power (P) supplied to phase 1 = {round(abs(transformer_p[4]), 5)} kW\")\n",
    "print(f\"Active power (P) supplied to phase 2 = {round(abs(transformer_p[5]), 5)} kW\")\n",
    "print(f\"Active power (P) supplied to phase 3 = {round(abs(transformer_p[6]), 5)} kW\")\n",
    "print(f\"Reactive power (Q) supplied to phase 1 = {round(abs(transformer_q[4]), 5)} kvar\")\n",
    "print(f\"Reactive power (Q) supplied to phase 2 = {round(abs(transformer_q[5]), 5)} kvar\")\n",
    "print(f\"Reactive power (Q) supplied to phase 3 = {round(abs(transformer_q[6]), 5)} kvar\")\n",
    "print(f\"Total active power (P) losses = {round(sum(transformer_p), 5)} kW\")\n",
    "print(f\"Total reactive power (P) losses = {round(sum(transformer_q), 5)} kvar\")\n",
    "print()\n",
    "\n",
    "line_loss = DSSCircuit.LineLosses\n",
    "lines_p, lines_q = line_loss\n",
    "print(\"Results of the Power Losses: \")\n",
    "print(f\"Active power (P) losses = {round(abs(lines_p), 3)} kW\")\n",
    "print(f\"Reactive power (Q) losses = {round(abs(lines_q), 3)} kvar\")"
   ]
  },
  {
   "cell_type": "markdown",
   "metadata": {},
   "source": [
    "## Roseau Load Flow\n"
   ]
  },
  {
   "cell_type": "code",
   "execution_count": null,
   "metadata": {},
   "outputs": [],
   "source": [
    "# Buses\n",
    "# -----\n",
    "source_bus = rlf.Bus(id=\"source_bus\", phases=\"abc\")\n",
    "bus_a = rlf.Bus(id=\"bus_A\", phases=\"abcn\")\n",
    "bus_b = rlf.Bus(id=\"bus_B\", phases=\"abcn\")\n",
    "bus_c = rlf.Bus(id=\"bus_C\", phases=\"an\")\n",
    "bus_d = rlf.Bus(id=\"bus_D\", phases=\"bn\")\n",
    "bus_e = rlf.Bus(id=\"bus_E\", phases=\"cn\")\n",
    "\n",
    "# References\n",
    "# ----------\n",
    "pref_mv = rlf.PotentialRef(id=\"pref_mv\", element=source_bus)\n",
    "ground = rlf.Ground(id=\"ground\")\n",
    "ground.connect(bus=bus_a, phase=\"n\")\n",
    "pref_lv = rlf.PotentialRef(id=\"pref_lv\", element=ground)\n",
    "\n",
    "# Sources\n",
    "# -------\n",
    "un_mv = 11_000\n",
    "un_lv = 400\n",
    "voltages = un_mv * np.exp([0, -2j * np.pi / 3, 2j * np.pi / 3])\n",
    "vs = rlf.VoltageSource(id=\"vs\", bus=source_bus, voltages=voltages)\n",
    "\n",
    "# Transformers\n",
    "# ------------\n",
    "tp = rlf.TransformerParameters.from_open_dss(\n",
    "    id=\"LVTR\",\n",
    "    conns=(\"delta\", \"wye\"),\n",
    "    kvs=rlf.Q_([un_mv, un_lv], \"V\"),\n",
    "    kvas=(250, 250),\n",
    "    leadlag=\"euro\",  # <- should be \"ansi\" (i.e. \"Dyn1\") but we don't have this in RLF yet\n",
    "    xhl=2.5,\n",
    "    rs=0,\n",
    "    loadloss=0,\n",
    "    noloadloss=0,\n",
    "    imag=0,\n",
    "    normhkva=None,\n",
    ")\n",
    "transformer = rlf.Transformer(\"LVTR\", bus1=source_bus, bus2=bus_a, parameters=tp)\n",
    "\n",
    "# Lines\n",
    "# -----\n",
    "lp_240 = rlf.LineParameters.from_open_dss(\n",
    "    id=\"linecode-240sq\",\n",
    "    nphases=4,\n",
    "    r1=rlf.Q_(0.127, \"ohm/km\"),\n",
    "    x1=rlf.Q_(0.072, \"ohm/km\"),\n",
    "    r0=rlf.Q_(0.342, \"ohm/km\"),\n",
    "    x0=rlf.Q_(0.089, \"ohm/km\"),\n",
    "    c1=rlf.Q_(3.400, \"nF/km\"),\n",
    "    c0=rlf.Q_(1.600, \"nF/km\"),\n",
    "    basefreq=rlf.Q_(50, \"Hz\"),\n",
    "    normamps=rlf.Q_(400, \"A\"),\n",
    "    linetype=\"OH\",\n",
    ")\n",
    "lp_16 = rlf.LineParameters.from_open_dss(\n",
    "    id=\"linecode-16sq\",\n",
    "    nphases=2,\n",
    "    r1=rlf.Q_(1.150, \"ohm/km\"),\n",
    "    x1=rlf.Q_(0.083, \"ohm/km\"),\n",
    "    r0=rlf.Q_(1.200, \"ohm/km\"),\n",
    "    x0=rlf.Q_(0.083, \"ohm/km\"),\n",
    "    c1=rlf.Q_(3.400, \"nF/km\"),\n",
    "    c0=rlf.Q_(1.600, \"nF/km\"),\n",
    "    basefreq=rlf.Q_(50, \"Hz\"),\n",
    "    normamps=rlf.Q_(400, \"A\"),\n",
    "    linetype=\"OH\",\n",
    ")\n",
    "\n",
    "line_ab = rlf.Line(\n",
    "    \"lineA_B\", bus1=bus_a, bus2=bus_b, phases=\"abcn\", parameters=lp_240, length=rlf.Q_(1, \"km\"), ground=ground\n",
    ")\n",
    "line_bc = rlf.Line(\n",
    "    \"lineB_C\", bus1=bus_b, bus2=bus_c, phases=\"an\", parameters=lp_16, length=rlf.Q_(10, \"m\"), ground=ground\n",
    ")\n",
    "line_bd = rlf.Line(\n",
    "    \"lineB_D\", bus1=bus_b, bus2=bus_d, phases=\"bn\", parameters=lp_16, length=rlf.Q_(10, \"m\"), ground=ground\n",
    ")\n",
    "line_be = rlf.Line(\n",
    "    \"lineB_E\", bus1=bus_b, bus2=bus_e, phases=\"cn\", parameters=lp_16, length=rlf.Q_(10, \"m\"), ground=ground\n",
    ")\n",
    "\n",
    "\n",
    "# Loads\n",
    "# -----\n",
    "def complex_power(p: float, pf: float) -> complex:\n",
    "    phi = np.arccos(pf)\n",
    "    q = p * np.tan(phi)\n",
    "    return p + 1j * q\n",
    "\n",
    "\n",
    "load1 = rlf.PowerLoad(id=\"load1\", bus=bus_c, phases=\"an\", powers=[complex_power(7e3, 0.95)])\n",
    "load2 = rlf.PowerLoad(id=\"load2\", bus=bus_d, phases=\"bn\", powers=[complex_power(6e3, 0.95)])\n",
    "load3 = rlf.PowerLoad(id=\"load3\", bus=bus_e, phases=\"cn\", powers=[complex_power(8e3, 0.95)])\n",
    "\n",
    "en = rlf.ElectricalNetwork.from_element(initial_bus=source_bus)\n",
    "en"
   ]
  },
  {
   "cell_type": "code",
   "execution_count": null,
   "metadata": {},
   "outputs": [],
   "source": [
    "en.solve_load_flow()"
   ]
  },
  {
   "cell_type": "code",
   "execution_count": null,
   "metadata": {},
   "outputs": [],
   "source": [
    "for load in (load1, load2, load3):\n",
    "    print(f\"{load.id}:  \")\n",
    "    load_powers = load.res_powers.m_as(\"kVA\").sum()\n",
    "    print(f\"Active power demand (P)= {round(load_powers.real, 3)} kW\")\n",
    "    print(f\"Reactive power demand (Q)= {round(load_powers.imag, 3)} kvar\")\n",
    "print()\n",
    "\n",
    "for load in (load1, load2, load3):\n",
    "    voltages_pu = abs(load.res_voltages.m[0]) / (un_lv / np.sqrt(3))\n",
    "    print(f\"The voltage [in p.u.] of the bus connected to {load.id} = {round(voltages_pu, 3)} pu\")\n",
    "print()\n",
    "\n",
    "print(\"Voltage magnitudes at bus A:  \")\n",
    "bus_a_voltages_pu = abs(bus_a.res_voltages.m) / (un_lv / np.sqrt(3))\n",
    "print(f\"Voltage magnitude - phase 1 = {round(bus_a_voltages_pu[0], 3)} pu\")\n",
    "print(f\"Voltage magnitude - phase 2 = {round(bus_a_voltages_pu[1], 3)} pu\")\n",
    "print(f\"Voltage magnitude - phase 3 = {round(bus_a_voltages_pu[2], 3)} pu\")\n",
    "print()\n",
    "\n",
    "transformer_powers = transformer.res_powers[1].m_as(\"kVA\")\n",
    "transformer_power_losses = transformer.res_power_losses.m_as(\"kVA\")\n",
    "print(\"Results of the transformer LVTR: \")\n",
    "print(f\"Active power (P) supplied to phase 1 = {round(abs(transformer_powers[0].real), 5)} kW\")\n",
    "print(f\"Active power (P) supplied to phase 2 = {round(abs(transformer_powers[1].real), 5)} kW\")\n",
    "print(f\"Active power (P) supplied to phase 3 = {round(abs(transformer_powers[2].real), 5)} kW\")\n",
    "print(f\"Reactive power (Q) supplied to phase 1 = {round(abs(transformer_powers[0].imag), 5)} kvar\")\n",
    "print(f\"Reactive power (Q) supplied to phase 2 = {round(abs(transformer_powers[1].imag), 5)} kvar\")\n",
    "print(f\"Reactive power (Q) supplied to phase 3 = {round(abs(transformer_powers[2].imag), 5)} kvar\")\n",
    "print(f\"Total active power (P) losses = {round(transformer_power_losses.real, 5)} kW\")\n",
    "print(f\"Total reactive power (P) losses = {round(transformer_power_losses.imag, 5)} kvar\")\n",
    "print()\n",
    "\n",
    "total_line_loss = sum(br.res_power_losses.m_as(\"kVA\").sum() for br in en.branches.values() if isinstance(br, rlf.Line))\n",
    "print(\"Results of the Power Losses: \")\n",
    "print(f\"Active power (P) losses = {round(abs(total_line_loss.real), 3)} kW\")\n",
    "print(f\"Reactive power (Q) losses = {round(abs(total_line_loss.imag), 3)} kvar\")"
   ]
  }
 ],
 "metadata": {
  "kernelspec": {
   "display_name": "Python 3 (ipykernel)",
   "language": "python",
   "name": "python3"
  },
  "language_info": {
   "codemirror_mode": {
    "name": "ipython",
    "version": 3
   },
   "file_extension": ".py",
   "mimetype": "text/x-python",
   "name": "python",
   "nbconvert_exporter": "python",
   "pygments_lexer": "ipython3",
   "version": "3.11.2"
  }
 },
 "nbformat": 4,
 "nbformat_minor": 4
}
